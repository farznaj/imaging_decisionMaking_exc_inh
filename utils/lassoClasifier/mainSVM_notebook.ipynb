{
 "cells": [
  {
   "cell_type": "markdown",
   "metadata": {},
   "source": [
    "## Load data\n",
    "Load dataset from desk. These are:\n",
    "    - X matrix (size trials x neurons) that contains neural responses at different trials.\n",
    "    - Y choice of high rate (modeled as 1) and low rate (modeled as 0)\n"
   ]
  },
  {
   "cell_type": "code",
   "execution_count": 13,
   "metadata": {
    "collapsed": false
   },
   "outputs": [
    {
     "name": "stdout",
     "output_type": "stream",
     "text": [
      " The data has 274 neurons recorded at 446 trials\n"
     ]
    }
   ],
   "source": [
    "import scipy.io as scio\n",
    "import numpy as np\n",
    "dirName = '/Users/gamalamin/git_local_repository/Farzaneh/XY.mat';\n",
    "#dirName = '/home/farznaj/Shares/Churchland/data/fni17/imaging/151022/XY_fni17_151022 XY_lassoSVM.mat';\n",
    "XY = scio.loadmat(dirName, variable_names=['X', 'Y']);\n",
    "X = XY.pop('X')\n",
    "Y = np.squeeze(XY.pop('Y'))\n",
    "numTrials, numNeurons = X.shape\n",
    "\n",
    "print ' The data has %d neurons recorded at %d trials' %(numTrials, numNeurons)\n"
   ]
  },
  {
   "cell_type": "code",
   "execution_count": null,
   "metadata": {
    "collapsed": true
   },
   "outputs": [],
   "source": []
  },
  {
   "cell_type": "code",
   "execution_count": null,
   "metadata": {
    "collapsed": true
   },
   "outputs": [],
   "source": []
  },
  {
   "cell_type": "code",
   "execution_count": null,
   "metadata": {
    "collapsed": true
   },
   "outputs": [],
   "source": []
  },
  {
   "cell_type": "markdown",
   "metadata": {},
   "source": [
    "## Features normalization and scaling\n",
    "    To removed effects related to scaling and bias of each neuron, we need to zscore data (i.e., make data mean 0 and variance 1 for each neuron) "
   ]
  },
  {
   "cell_type": "code",
   "execution_count": 14,
   "metadata": {
    "collapsed": true
   },
   "outputs": [],
   "source": [
    "meanX = np.mean(X, axis = 0);\n",
    "stdX = np.std(X, axis = 0);\n",
    "X = (X-meanX)/stdX;"
   ]
  },
  {
   "cell_type": "markdown",
   "metadata": {},
   "source": [
    "## Divide data to high and low rates\n",
    "    Divide data to high rate trials and low rate trials"
   ]
  },
  {
   "cell_type": "code",
   "execution_count": 70,
   "metadata": {
    "collapsed": false
   },
   "outputs": [
    {
     "name": "stdout",
     "output_type": "stream",
     "text": [
      " 137 trials are high rate and 137 trials are low rate\n"
     ]
    }
   ],
   "source": [
    "Y_HR = Y[Y==1];\n",
    "X_HR = X[Y==1,:];\n",
    "Y_LR = Y[Y==0];\n",
    "X_LR = X[Y==0,:];\n",
    "print ' %d trials are high rate and %d trials are low rate' %(len(Y_HR), len(Y_LR))"
   ]
  },
  {
   "cell_type": "markdown",
   "metadata": {},
   "source": [
    "## Handle inbalance in the number of trials\n",
    "    - Still need to think about that."
   ]
  },
  {
   "cell_type": "markdown",
   "metadata": {},
   "source": [
    "## Identify the best regularization parameter:\n",
    "    Perform 10-fold cross validation to obtain the best regularization parameter"
   ]
  },
  {
   "cell_type": "code",
   "execution_count": 71,
   "metadata": {
    "collapsed": false
   },
   "outputs": [
    {
     "ename": "SyntaxError",
     "evalue": "invalid syntax (<ipython-input-71-6ce3f751932b>, line 8)",
     "output_type": "error",
     "traceback": [
      "\u001b[0;36m  File \u001b[0;32m\"<ipython-input-71-6ce3f751932b>\"\u001b[0;36m, line \u001b[0;32m8\u001b[0m\n\u001b[0;31m    for s = 1:numSamples\u001b[0m\n\u001b[0m          ^\u001b[0m\n\u001b[0;31mSyntaxError\u001b[0m\u001b[0;31m:\u001b[0m invalid syntax\n"
     ]
    }
   ],
   "source": [
    "from crossValidateModel import crossValidateModel\n",
    "from linearSVM import linearSVM\n",
    "from compiler.ast import flatten\n",
    "numSamples = 2;\n",
    "lvect = flatten([0, list(10**(np.arange(-5, 2,0.5)))]);\n",
    "print 'try the following regularization values: %\\n', lvect\n",
    "\n",
    "for s = 1:numSamples\n",
    "    for i = 1:len(lvect):\n",
    "        summary =  crossValidateModel(X, Y, linearSVM, kfold = 10, l1 = lvect[i])\n",
    "    \n",
    "            "
   ]
  },
  {
   "cell_type": "code",
   "execution_count": null,
   "metadata": {
    "collapsed": true
   },
   "outputs": [],
   "source": []
  },
  {
   "cell_type": "code",
   "execution_count": null,
   "metadata": {
    "collapsed": true
   },
   "outputs": [],
   "source": []
  },
  {
   "cell_type": "code",
   "execution_count": 61,
   "metadata": {
    "collapsed": false
   },
   "outputs": [
    {
     "name": "stdout",
     "output_type": "stream",
     "text": [
      "running l2 svm classification\n"
     ]
    }
   ],
   "source": []
  },
  {
   "cell_type": "code",
   "execution_count": 56,
   "metadata": {
    "collapsed": false
   },
   "outputs": [
    {
     "data": {
      "text/plain": [
       "28.571428571428569"
      ]
     },
     "execution_count": 56,
     "metadata": {},
     "output_type": "execute_result"
    }
   ],
   "source": []
  },
  {
   "cell_type": "code",
   "execution_count": null,
   "metadata": {
    "collapsed": true
   },
   "outputs": [],
   "source": []
  },
  {
   "cell_type": "code",
   "execution_count": null,
   "metadata": {
    "collapsed": true
   },
   "outputs": [],
   "source": []
  },
  {
   "cell_type": "code",
   "execution_count": null,
   "metadata": {
    "collapsed": true
   },
   "outputs": [],
   "source": [
    "def crossValidate(X, Y, **options):\n",
    "    #%%\n",
    "    import numpy as np\n",
    "    import matplotlib.pyplot as plt\n",
    "    from numpy import random as rng\n",
    "    from compiler.ast import flatten\n",
    "    from sklearn import svm\n",
    "\n",
    "    Y = np.squeeze(np.array(Y).astype(int));\n",
    "    \n",
    "    if X.shape[0]>len(Y):\n",
    "        numObservations = len(Y);\n",
    "        numFeatures = len(X)/numObservations;\n",
    "        X = np.reshape(np.array(X.astype('float')), (numObservations, numFeatures), order='F');\n",
    "        \n",
    "    scale = np.sqrt((X**2).mean());\n",
    "    mskOutNans = (np.sum(np.isnan(X), axis = 1)+ np.squeeze(np.isnan(Y)))<1 ;\n",
    "    X = X[mskOutNans, :];\n",
    "    Y = Y[mskOutNans];  \n",
    "    numObservations, numFeatures = X.shape;\n",
    "    lvect = flatten([0, list(10**(np.arange(-5, 2,0.5)))]);            \n",
    "    l = np.array(lvect*scale);\n",
    "    \n",
    "    perClassErrorTest = np.nan+np.ones((numSamples, l.shape[0]));\n",
    "    perClassErrorTrain = np.nan+np.ones((numSamples, l.shape[0]));\n",
    "    \n",
    "    for s in range(numSamples):\n",
    "        ## %%%%%% shuffle trials to break any dependencies on the sequence of trails \n",
    "        shfl = rng.permutation(np.arange(0, numObservations));\n",
    "        Ys = Y[shfl];\n",
    "        Xs = X[shfl, :]; \n",
    "            \n",
    "        ## %%%%% divide data to training and testin sets\n",
    "        YTrain = Ys[np.arange(0, int((kfold-1.)/kfold*numObservations))];\n",
    "        YTest = Ys[np.arange(int((kfold-1.)/kfold*numObservations), numObservations)];\n",
    "            \n",
    "        XTrain = Xs[np.arange(0, int((kfold-1.)/kfold*numObservations)), :];\n",
    "        XTest = Xs[np.arange(int((kfold-1.)/kfold*numObservations), numObservations), :];\n",
    "        ## %%%%% loop over the possible regularization values\n",
    "        for i in range(l.shape[0]):\n",
    "            # Create a classifier: a support vector classifier\n",
    "            if regType == 'l1':\n",
    "                linear_svm = svm.LinearSVC(C = 1./l[i], loss='squared_hinge', penalty='l1', dual=False)\n",
    "            elif regType == 'l2':\n",
    "                linear_svm = svm.LinearSVC(C = 1./l[i], loss='squared_hinge', penalty='l2', dual=False)\n",
    "\n",
    "            linear_svm.fit(XTrain, np.squeeze(YTrain))\n",
    "            perClassErrorTest[s, i] = predictErrorSVM(YTest, linear_svm.predict(XTest));\n",
    "            perClassErrorTrain[s, i] = predictErrorSVM(YTrain, linear_svm.predict(XTrain));\n",
    "\n",
    "        print 'cross-validating: %.2f %% completed' % ((s+1.)/(numSamples+0.)*100.) \n",
    "    \n",
    "    meanPerClassErrorTrain = np.mean(perClassErrorTrain, axis = 0);\n",
    "    semPerClassErrorTrain = np.std(perClassErrorTrain, axis = 0)/np.sqrt(numSamples);\n",
    "    \n",
    "    meanPerClassErrorTest = np.mean(perClassErrorTest, axis = 0);\n",
    "    semPerClassErrorTest = np.std(perClassErrorTest, axis = 0)/np.sqrt(numSamples);\n",
    "    ix = np.argmin(meanPerClassErrorTest);\n",
    "    l = l[meanPerClassErrorTest <= (meanPerClassErrorTest[ix]+semPerClassErrorTest[ix]), :];\n",
    "    lbest = l[-1, :]; # best regularization term based on minError+SE criteria\n",
    "    ix = np.sum(l==lbest,1)==2\n",
    "    ##%%%%%% plot coss-validation results\n",
    "    plt.figure('cross validation')\n",
    "    \n",
    "    plt.fill_between(lvect, meanPerClassErrorTrain-semPerClassErrorTrain, meanPerClassErrorTrain+ semPerClassErrorTrain, alpha=0.5, edgecolor='k', facecolor='k')\n",
    "    plt.fill_between(lvect, meanPerClassErrorTest-semPerClassErrorTest, meanPerClassErrorTest+ semPerClassErrorTest, alpha=0.5, edgecolor='r', facecolor='r')\n",
    "    plt.plot(lvect, meanPerClassErrorTrain, 'k', label = 'training')\n",
    "    plt.plot(lvect, meanPerClassErrorTest, 'r', label = 'validation')\n",
    "    plt.plot(np.array(lvect)[ix], meanPerClassErrorTest[ix], 'bo')\n",
    "    plt.xlim([lvect[1], lvect[-1]])\n",
    "    plt.xscale('log')\n",
    "    plt.xlabel('regularization parameter')\n",
    "    plt.ylabel('classification error (%)')\n",
    "    plt.legend()\n",
    "    return lbest\n",
    "    \n"
   ]
  },
  {
   "cell_type": "code",
   "execution_count": null,
   "metadata": {
    "collapsed": true
   },
   "outputs": [],
   "source": []
  },
  {
   "cell_type": "code",
   "execution_count": null,
   "metadata": {
    "collapsed": true
   },
   "outputs": [],
   "source": []
  },
  {
   "cell_type": "code",
   "execution_count": null,
   "metadata": {
    "collapsed": true
   },
   "outputs": [],
   "source": []
  },
  {
   "cell_type": "markdown",
   "metadata": {},
   "source": [
    "Run lasso SVM:"
   ]
  },
  {
   "cell_type": "code",
   "execution_count": 17,
   "metadata": {
    "collapsed": false
   },
   "outputs": [
    {
     "ename": "ImportError",
     "evalue": "cannot import name crossValidateSVM",
     "output_type": "error",
     "traceback": [
      "\u001b[0;31m---------------------------------------------------------------------------\u001b[0m",
      "\u001b[0;31mImportError\u001b[0m                               Traceback (most recent call last)",
      "\u001b[0;32m<ipython-input-17-f3b13b4da5d9>\u001b[0m in \u001b[0;36m<module>\u001b[0;34m()\u001b[0m\n\u001b[0;32m----> 1\u001b[0;31m \u001b[0;32mfrom\u001b[0m \u001b[0mlassoLinearSVM\u001b[0m \u001b[0;32mimport\u001b[0m \u001b[0mcrossValidateSVM\u001b[0m\u001b[0;34m\u001b[0m\u001b[0m\n\u001b[0m\u001b[1;32m      2\u001b[0m \u001b[0;34m\u001b[0m\u001b[0m\n\u001b[1;32m      3\u001b[0m \u001b[0mkfold\u001b[0m \u001b[0;34m=\u001b[0m \u001b[0;36m10\u001b[0m\u001b[0;34m\u001b[0m\u001b[0m\n\u001b[1;32m      4\u001b[0m \u001b[0mnumSamples\u001b[0m \u001b[0;34m=\u001b[0m \u001b[0;36m2\u001b[0m\u001b[0;34m\u001b[0m\u001b[0m\n\u001b[1;32m      5\u001b[0m \u001b[0mlbest\u001b[0m \u001b[0;34m=\u001b[0m \u001b[0mcrossValidateSVM\u001b[0m\u001b[0;34m(\u001b[0m\u001b[0mX\u001b[0m\u001b[0;34m,\u001b[0m \u001b[0mY\u001b[0m\u001b[0;34m,\u001b[0m \u001b[0;34m'l1'\u001b[0m\u001b[0;34m,\u001b[0m \u001b[0mkfold\u001b[0m\u001b[0;34m,\u001b[0m \u001b[0mnumSamples\u001b[0m\u001b[0;34m)\u001b[0m\u001b[0;34m\u001b[0m\u001b[0m\n",
      "\u001b[0;31mImportError\u001b[0m: cannot import name crossValidateSVM"
     ]
    }
   ],
   "source": [
    "from lassoLinearSVM import crossValidateSVM\n",
    "\n",
    "kfold = 10\n",
    "numSamples = 2\n",
    "lbest = crossValidateSVM(X, Y, 'l1', kfold, numSamples)\n"
   ]
  },
  {
   "cell_type": "code",
   "execution_count": null,
   "metadata": {
    "collapsed": true
   },
   "outputs": [],
   "source": []
  },
  {
   "cell_type": "code",
   "execution_count": null,
   "metadata": {
    "collapsed": true
   },
   "outputs": [],
   "source": []
  },
  {
   "cell_type": "code",
   "execution_count": null,
   "metadata": {
    "collapsed": true
   },
   "outputs": [],
   "source": []
  },
  {
   "cell_type": "code",
   "execution_count": null,
   "metadata": {
    "collapsed": true
   },
   "outputs": [],
   "source": []
  }
 ],
 "metadata": {
  "kernelspec": {
   "display_name": "Python 2",
   "language": "python",
   "name": "python2"
  },
  "language_info": {
   "codemirror_mode": {
    "name": "ipython",
    "version": 2
   },
   "file_extension": ".py",
   "mimetype": "text/x-python",
   "name": "python",
   "nbconvert_exporter": "python",
   "pygments_lexer": "ipython2",
   "version": "2.7.12"
  }
 },
 "nbformat": 4,
 "nbformat_minor": 0
}
